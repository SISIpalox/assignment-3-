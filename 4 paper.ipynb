{
 "cells": [
  {
   "cell_type": "code",
   "execution_count": 4,
   "id": "708646fc-6a40-49cb-a522-d2b8a23d183e",
   "metadata": {
    "tags": []
   },
   "outputs": [
    {
     "name": "stdout",
     "output_type": "stream",
     "text": [
      "[0, 0, 2, 2, 0, 4, 2, 0, 0, 0, 0, 4, 0, 0, 0, 2, 4, 0, 0, 2, 0, 2, 2, 4, 0, 2, 2, 0, 4, 2, 0, 0, 2, 0, 2, 0, 0, 0, 0, 2, 0, 2, 0, 2, 4, 0, 0, 4, 0, 2]\n"
     ]
    }
   ],
   "source": [
    "import numpy as np\n",
    "\n",
    "def play_game(numbers):\n",
    "    while len(numbers) > 1:\n",
    "       \n",
    "        chosen_idx = np.random.choice(len(numbers), 2, replace=False)\n",
    "        chosen_numbers = [numbers[chosen_idx[0]], numbers[chosen_idx[1]]]\n",
    "       \n",
    "        diff = abs(chosen_numbers[0] - chosen_numbers[1])\n",
    "       \n",
    "        numbers = [num for i, num in enumerate(numbers) if i not in chosen_idx]\n",
    "      \n",
    "        numbers.append(diff)\n",
    "   \n",
    "    return numbers[0]\n",
    "\n",
    "\n",
    "final_numbers = []\n",
    "\n",
    "for _ in range(50):\n",
    "    numbers = list(range(1, 5))\n",
    "    final_number = play_game(numbers)\n",
    "    final_numbers.append(final_number)\n",
    "\n",
    "print(final_numbers)\n"
   ]
  },
  {
   "cell_type": "code",
   "execution_count": null,
   "id": "1dfd68b7-f448-41a5-9fef-20a589b23b24",
   "metadata": {},
   "outputs": [],
   "source": []
  },
  {
   "cell_type": "code",
   "execution_count": null,
   "id": "8bfb6089-3138-4741-9f4b-89c042af59c6",
   "metadata": {},
   "outputs": [],
   "source": []
  }
 ],
 "metadata": {
  "kernelspec": {
   "display_name": "Python 3 (ipykernel)",
   "language": "python",
   "name": "python3"
  },
  "language_info": {
   "codemirror_mode": {
    "name": "ipython",
    "version": 3
   },
   "file_extension": ".py",
   "mimetype": "text/x-python",
   "name": "python",
   "nbconvert_exporter": "python",
   "pygments_lexer": "ipython3",
   "version": "3.11.5"
  }
 },
 "nbformat": 4,
 "nbformat_minor": 5
}
