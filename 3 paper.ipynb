{
 "cells": [
  {
   "cell_type": "code",
   "execution_count": 2,
   "id": "697aba52-971f-4216-ab1e-22390522bbc9",
   "metadata": {
    "tags": []
   },
   "outputs": [
    {
     "name": "stdout",
     "output_type": "stream",
     "text": [
      "[0, 2, 0, 2, 0, 0, 0, 0, 0, 0, 0, 2, 0, 2, 0, 2, 0, 0, 2, 0, 0, 2, 0, 2, 0, 2, 0, 0, 2, 0, 0, 0, 0, 0, 0, 0, 0, 2, 0, 0, 0, 0, 2, 0, 0, 2, 0, 2, 0, 0]\n"
     ]
    }
   ],
   "source": [
    "\n",
    "import numpy as np\n",
    "\n",
    "def play_game(numbers):\n",
    "    while len(numbers) > 1:\n",
    "        # Randomly select two numbers\n",
    "        chosen_idx = np.random.choice(len(numbers), 2, replace=False)\n",
    "        chosen_numbers = [numbers[chosen_idx[0]], numbers[chosen_idx[1]]]\n",
    "        # Calculate the difference between the two numbers\n",
    "        diff = abs(chosen_numbers[0] - chosen_numbers[1])\n",
    "        # Remove the chosen numbers from the list\n",
    "        numbers = [num for i, num in enumerate(numbers) if i not in chosen_idx]\n",
    "        # Put the difference back into the list\n",
    "        numbers.append(diff)\n",
    "    # Return the last remaining number in the list\n",
    "    return numbers[0]\n",
    "\n",
    "# Initialize a list to store the final numbers\n",
    "final_numbers_1_to_3 = []\n",
    "\n",
    "# Play the game 50 times with numbers 1 to 3\n",
    "for _ in range(50):\n",
    "    numbers = list(range(1, 4))\n",
    "    final_number = play_game(numbers)\n",
    "    final_numbers_1_to_3.append(final_number)\n",
    "\n",
    "print(final_numbers_1_to_3)\n"
   ]
  },
  {
   "cell_type": "code",
   "execution_count": null,
   "id": "9867c4b9-e868-46ba-9423-69b1971077d3",
   "metadata": {},
   "outputs": [],
   "source": []
  }
 ],
 "metadata": {
  "kernelspec": {
   "display_name": "Python 3 (ipykernel)",
   "language": "python",
   "name": "python3"
  },
  "language_info": {
   "codemirror_mode": {
    "name": "ipython",
    "version": 3
   },
   "file_extension": ".py",
   "mimetype": "text/x-python",
   "name": "python",
   "nbconvert_exporter": "python",
   "pygments_lexer": "ipython3",
   "version": "3.11.5"
  }
 },
 "nbformat": 4,
 "nbformat_minor": 5
}
