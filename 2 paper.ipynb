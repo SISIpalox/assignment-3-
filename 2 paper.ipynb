{
 "cells": [
  {
   "cell_type": "code",
   "execution_count": 3,
   "id": "ec1894cd-d481-4da2-90d4-012f67a2e468",
   "metadata": {
    "tags": []
   },
   "outputs": [
    {
     "data": {
      "text/plain": [
       "[1,\n",
       " 1,\n",
       " 1,\n",
       " 1,\n",
       " 1,\n",
       " 1,\n",
       " 1,\n",
       " 1,\n",
       " 1,\n",
       " 1,\n",
       " 1,\n",
       " 1,\n",
       " 1,\n",
       " 1,\n",
       " 1,\n",
       " 1,\n",
       " 1,\n",
       " 1,\n",
       " 1,\n",
       " 1,\n",
       " 1,\n",
       " 1,\n",
       " 1,\n",
       " 1,\n",
       " 1,\n",
       " 1,\n",
       " 1,\n",
       " 1,\n",
       " 1,\n",
       " 1,\n",
       " 1,\n",
       " 1,\n",
       " 1,\n",
       " 1,\n",
       " 1,\n",
       " 1,\n",
       " 1,\n",
       " 1,\n",
       " 1,\n",
       " 1,\n",
       " 1,\n",
       " 1,\n",
       " 1,\n",
       " 1,\n",
       " 1,\n",
       " 1,\n",
       " 1,\n",
       " 1,\n",
       " 1,\n",
       " 1]"
      ]
     },
     "execution_count": 3,
     "metadata": {},
     "output_type": "execute_result"
    }
   ],
   "source": [
    "# Adjusting the game for when there are only papers numbered 1 and 2\n",
    "import numpy as np\n",
    "def play_game(numbers):\n",
    "    while len(numbers) > 1:\n",
    "        # Randomly select two numbers\n",
    "        chosen_idx = np.random.choice(len(numbers), 2, replace=False)\n",
    "        chosen_numbers = [numbers[chosen_idx[0]], numbers[chosen_idx[1]]]\n",
    "        # Calculate the difference between the two numbers\n",
    "        diff = abs(chosen_numbers[0] - chosen_numbers[1])\n",
    "        # Remove the chosen numbers from the list\n",
    "        numbers = [num for i, num in enumerate(numbers) if i not in chosen_idx]\n",
    "        # Put the difference back into the list\n",
    "        numbers.append(diff)\n",
    "    # Return the last remaining number in the list\n",
    "    return numbers[0]\n",
    "\n",
    "# Initialize a list to store the final numbers\n",
    "final_numbers_1_to_2 = []\n",
    "\n",
    "# Play the game 50 times with numbers 1 to 2\n",
    "for _ in range(50):\n",
    "    numbers = list(range(1, 3))\n",
    "    final_number = play_game(numbers)\n",
    "    final_numbers_1_to_2.append(final_number)\n",
    "\n",
    "final_numbers_1_to_2\n"
   ]
  },
  {
   "cell_type": "code",
   "execution_count": null,
   "id": "1c0647f5-216f-4512-ad71-7e5c5a444796",
   "metadata": {},
   "outputs": [],
   "source": []
  },
  {
   "cell_type": "code",
   "execution_count": null,
   "id": "a718165b-49fe-48c3-9def-3637a02fd1a9",
   "metadata": {},
   "outputs": [],
   "source": []
  }
 ],
 "metadata": {
  "kernelspec": {
   "display_name": "Python 3 (ipykernel)",
   "language": "python",
   "name": "python3"
  },
  "language_info": {
   "codemirror_mode": {
    "name": "ipython",
    "version": 3
   },
   "file_extension": ".py",
   "mimetype": "text/x-python",
   "name": "python",
   "nbconvert_exporter": "python",
   "pygments_lexer": "ipython3",
   "version": "3.11.5"
  }
 },
 "nbformat": 4,
 "nbformat_minor": 5
}
